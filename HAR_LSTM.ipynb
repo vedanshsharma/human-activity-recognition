{
  "nbformat": 4,
  "nbformat_minor": 0,
  "metadata": {
    "colab": {
      "name": "HAR_LSTM.ipynb",
      "provenance": []
    },
    "kernelspec": {
      "name": "python3",
      "display_name": "Python 3"
    },
    "accelerator": "GPU"
  },
  "cells": [
    {
      "cell_type": "code",
      "metadata": {
        "id": "obSPBUkbsQur",
        "colab_type": "code",
        "colab": {
          "base_uri": "https://localhost:8080/",
          "height": 71
        },
        "outputId": "6501aa3a-9ee6-4e0c-baa5-e9d9d2f3e0e4"
      },
      "source": [
        "import pandas as pd\n",
        "import numpy as np \n",
        "import keras\n",
        "import matplotlib.pyplot as plt\n",
        "\n",
        "pd.set_option('display.max_rows', None)\n",
        "pd.set_option('display.max_columns', None)\n",
        "pd.set_option('display.width', None)\n",
        "pd.set_option('display.max_colwidth', -1)"
      ],
      "execution_count": 16,
      "outputs": [
        {
          "output_type": "stream",
          "text": [
            "/usr/local/lib/python3.6/dist-packages/ipykernel_launcher.py:9: FutureWarning: Passing a negative integer is deprecated in version 1.0 and will not be supported in future version. Instead, use None to not limit the column width.\n",
            "  if __name__ == '__main__':\n"
          ],
          "name": "stderr"
        }
      ]
    },
    {
      "cell_type": "code",
      "metadata": {
        "id": "BLaT_zOzvcvI",
        "colab_type": "code",
        "colab": {}
      },
      "source": [
        "# Activities are the class labels\n",
        "# It is a 6 class classification\n",
        "ACTIVITIES = {\n",
        "    0: 'WALKING',\n",
        "    1: 'WALKING_UPSTAIRS',\n",
        "    2: 'WALKING_DOWNSTAIRS',\n",
        "    3: 'SITTING',\n",
        "    4: 'STANDING',\n",
        "    5: 'LAYING',\n",
        "}\n",
        "\n",
        "\n",
        "# Utility function to print the confusion matrix\n",
        "def confusion_matrix(Y_true, Y_pred):\n",
        "    Y_true = pd.Series([ACTIVITIES[y] for y in np.argmax(Y_true, axis=1)])\n",
        "    Y_pred = pd.Series([ACTIVITIES[y] for y in np.argmax(Y_pred, axis=1)])\n",
        "\n",
        "    return pd.crosstab(Y_true, Y_pred, rownames=['True'], colnames=['Pred'])"
      ],
      "execution_count": 2,
      "outputs": []
    },
    {
      "cell_type": "code",
      "metadata": {
        "id": "InKUc-WZv0Bx",
        "colab_type": "code",
        "colab": {}
      },
      "source": [
        "# Data directory\n",
        "DATADIR = '/content/drive/My Drive/UCI_HAR_Dataset'"
      ],
      "execution_count": 3,
      "outputs": []
    },
    {
      "cell_type": "markdown",
      "metadata": {
        "id": "yagU3iQI1k-_",
        "colab_type": "text"
      },
      "source": [
        "#Loading the dataset"
      ]
    },
    {
      "cell_type": "code",
      "metadata": {
        "id": "81AVbwVPv0z1",
        "colab_type": "code",
        "colab": {}
      },
      "source": [
        "SIGNALS = [\n",
        "    \"body_acc_x\",\n",
        "    \"body_acc_y\",\n",
        "    \"body_acc_z\",\n",
        "    \"body_gyro_x\",\n",
        "    \"body_gyro_y\",\n",
        "    \"body_gyro_z\",\n",
        "    \"total_acc_x\",\n",
        "    \"total_acc_y\",\n",
        "    \"total_acc_z\"\n",
        "]"
      ],
      "execution_count": 4,
      "outputs": []
    },
    {
      "cell_type": "code",
      "metadata": {
        "id": "eA8gxGJJwAA5",
        "colab_type": "code",
        "colab": {}
      },
      "source": [
        "# Utility function to read the data from csv file\n",
        "def _read_csv(filename):\n",
        "    return pd.read_csv(filename, delim_whitespace=True, header=None)\n",
        "\n",
        "# Utility function to load the load\n",
        "def load_signals(subset):\n",
        "    signals_data = []\n",
        "\n",
        "    for signal in SIGNALS:\n",
        "        filename = f'/content/drive/My Drive/UCI_HAR_Dataset/{subset}/Inertial Signals/{signal}_{subset}.txt'\n",
        "        signals_data.append(\n",
        "            _read_csv(filename).values\n",
        "        ) \n",
        "\n",
        "    # Transpose is used to change the dimensionality of the output,\n",
        "    # aggregating the signals by combination of sample/timestep.\n",
        "    # Resultant shape is (7352 train/2947 test samples, 128 timesteps, 9 signals)\n",
        "    return np.transpose(signals_data, (1, 2, 0))"
      ],
      "execution_count": 5,
      "outputs": []
    },
    {
      "cell_type": "code",
      "metadata": {
        "id": "8wGFF5UkwHrJ",
        "colab_type": "code",
        "colab": {}
      },
      "source": [
        "def load_y(subset):\n",
        "    \"\"\"\n",
        "    The objective that we are trying to predict is a integer, from 1 to 6,\n",
        "    that represents a human activity. We return a binary representation of \n",
        "    every sample objective as a 6 bits vector using One Hot Encoding\n",
        "    (https://pandas.pydata.org/pandas-docs/stable/generated/pandas.get_dummies.html)\n",
        "    \"\"\"\n",
        "    filename = f'/content/drive/My Drive/UCI_HAR_Dataset/{subset}/y_{subset}.txt'\n",
        "    y = _read_csv(filename)[0]\n",
        "\n",
        "    return pd.get_dummies(y).values"
      ],
      "execution_count": 6,
      "outputs": []
    },
    {
      "cell_type": "code",
      "metadata": {
        "id": "pH4WfnYhzHEn",
        "colab_type": "code",
        "colab": {}
      },
      "source": [
        "def load_data():\n",
        "    \"\"\"\n",
        "    Obtain the dataset from multiple files.\n",
        "    Returns: X_train, X_test, y_train, y_test\n",
        "    \"\"\"\n",
        "    X_train, X_test = load_signals('train'), load_signals('test')\n",
        "    y_train, y_test = load_y('train'), load_y('test')\n",
        "\n",
        "    return X_train, X_test, y_train, y_test"
      ],
      "execution_count": 7,
      "outputs": []
    },
    {
      "cell_type": "code",
      "metadata": {
        "id": "2prdKZmgzLOE",
        "colab_type": "code",
        "colab": {}
      },
      "source": [
        "# Utility function to count the number of classes\n",
        "def _count_classes(y):\n",
        "    return len(set([tuple(category) for category in y]))"
      ],
      "execution_count": 8,
      "outputs": []
    },
    {
      "cell_type": "code",
      "metadata": {
        "id": "yXvJFi-IziDs",
        "colab_type": "code",
        "colab": {}
      },
      "source": [
        "# Loading the train and test data\n",
        "X_train, X_test, Y_train, Y_test = load_data()"
      ],
      "execution_count": 9,
      "outputs": []
    },
    {
      "cell_type": "code",
      "metadata": {
        "id": "lc8vZECHzkX8",
        "colab_type": "code",
        "colab": {
          "base_uri": "https://localhost:8080/",
          "height": 68
        },
        "outputId": "047ccc96-cef4-4214-8637-9ac42ccae1d9"
      },
      "source": [
        "timesteps = len(X_train[0])\n",
        "input_dim = len(X_train[0][0])\n",
        "n_classes = _count_classes(Y_train)\n",
        "\n",
        "print(\"Number of timesteps \",timesteps)\n",
        "print(\"Number of sensors used\" , input_dim)\n",
        "print(\"Number of time series \" ,len(X_train))"
      ],
      "execution_count": 10,
      "outputs": [
        {
          "output_type": "stream",
          "text": [
            "Number of timesteps  128\n",
            "Number of sensors used 9\n",
            "Number of time series  7352\n"
          ],
          "name": "stdout"
        }
      ]
    },
    {
      "cell_type": "markdown",
      "metadata": {
        "id": "ruFQPK6i1qMv",
        "colab_type": "text"
      },
      "source": [
        "#LSTM-1"
      ]
    },
    {
      "cell_type": "code",
      "metadata": {
        "id": "VyUJebVc1Fbf",
        "colab_type": "code",
        "colab": {
          "base_uri": "https://localhost:8080/",
          "height": 289
        },
        "outputId": "90b0c566-be9f-493e-fdf5-9033f884eef4"
      },
      "source": [
        "model = keras.models.Sequential([\n",
        "      keras.layers.LSTM(32 , input_shape = ( timesteps , input_dim)),\n",
        "      keras.layers.Dropout(0.2),\n",
        "      keras.layers.Dense(6 , activation= 'relu'),\n",
        "      keras.layers.Softmax()\n",
        "])\n",
        "model.summary()"
      ],
      "execution_count": 18,
      "outputs": [
        {
          "output_type": "stream",
          "text": [
            "Model: \"sequential_2\"\n",
            "_________________________________________________________________\n",
            "Layer (type)                 Output Shape              Param #   \n",
            "=================================================================\n",
            "lstm_3 (LSTM)                (None, 32)                5376      \n",
            "_________________________________________________________________\n",
            "dropout_3 (Dropout)          (None, 32)                0         \n",
            "_________________________________________________________________\n",
            "dense_2 (Dense)              (None, 6)                 198       \n",
            "_________________________________________________________________\n",
            "softmax_2 (Softmax)          (None, 6)                 0         \n",
            "=================================================================\n",
            "Total params: 5,574\n",
            "Trainable params: 5,574\n",
            "Non-trainable params: 0\n",
            "_________________________________________________________________\n"
          ],
          "name": "stdout"
        }
      ]
    },
    {
      "cell_type": "code",
      "metadata": {
        "id": "l8Vet-Oq30mo",
        "colab_type": "code",
        "colab": {}
      },
      "source": [
        "# Compiling the model\n",
        "model.compile(loss='categorical_crossentropy',\n",
        "              optimizer='adam',\n",
        "              metrics=['accuracy'])"
      ],
      "execution_count": 19,
      "outputs": []
    },
    {
      "cell_type": "code",
      "metadata": {
        "id": "bPZQzKjw5Rxx",
        "colab_type": "code",
        "colab": {
          "base_uri": "https://localhost:8080/",
          "height": 697
        },
        "outputId": "c116d105-d29d-49d5-dc37-22aedde487e6"
      },
      "source": [
        "# Training the model\n",
        "history = model.fit(X_train,\n",
        "          Y_train,\n",
        "          batch_size= 32 ,\n",
        "          validation_data=(X_test, Y_test),\n",
        "          epochs= 20 )"
      ],
      "execution_count": 20,
      "outputs": [
        {
          "output_type": "stream",
          "text": [
            "Epoch 1/20\n",
            "230/230 [==============================] - 2s 11ms/step - loss: 1.4039 - accuracy: 0.4531 - val_loss: 1.4243 - val_accuracy: 0.3957\n",
            "Epoch 2/20\n",
            "230/230 [==============================] - 2s 9ms/step - loss: 1.3406 - accuracy: 0.4283 - val_loss: 1.3400 - val_accuracy: 0.4007\n",
            "Epoch 3/20\n",
            "230/230 [==============================] - 2s 9ms/step - loss: 1.1752 - accuracy: 0.5446 - val_loss: 1.1748 - val_accuracy: 0.5412\n",
            "Epoch 4/20\n",
            "230/230 [==============================] - 2s 9ms/step - loss: 0.9204 - accuracy: 0.6519 - val_loss: 1.1873 - val_accuracy: 0.5419\n",
            "Epoch 5/20\n",
            "230/230 [==============================] - 2s 9ms/step - loss: 0.7768 - accuracy: 0.6820 - val_loss: 0.8806 - val_accuracy: 0.5853\n",
            "Epoch 6/20\n",
            "230/230 [==============================] - 2s 9ms/step - loss: 0.7930 - accuracy: 0.6712 - val_loss: 0.7712 - val_accuracy: 0.6905\n",
            "Epoch 7/20\n",
            "230/230 [==============================] - 2s 9ms/step - loss: 0.7124 - accuracy: 0.7191 - val_loss: 0.7300 - val_accuracy: 0.7156\n",
            "Epoch 8/20\n",
            "230/230 [==============================] - 2s 9ms/step - loss: 0.6613 - accuracy: 0.7410 - val_loss: 0.7049 - val_accuracy: 0.7184\n",
            "Epoch 9/20\n",
            "230/230 [==============================] - 2s 9ms/step - loss: 0.5740 - accuracy: 0.7945 - val_loss: 0.7339 - val_accuracy: 0.7255\n",
            "Epoch 10/20\n",
            "230/230 [==============================] - 2s 9ms/step - loss: 0.4997 - accuracy: 0.8317 - val_loss: 0.5727 - val_accuracy: 0.8069\n",
            "Epoch 11/20\n",
            "230/230 [==============================] - 2s 9ms/step - loss: 0.4222 - accuracy: 0.8640 - val_loss: 0.5176 - val_accuracy: 0.8371\n",
            "Epoch 12/20\n",
            "230/230 [==============================] - 2s 9ms/step - loss: 0.3639 - accuracy: 0.8810 - val_loss: 0.4564 - val_accuracy: 0.8487\n",
            "Epoch 13/20\n",
            "230/230 [==============================] - 2s 9ms/step - loss: 0.3070 - accuracy: 0.9055 - val_loss: 0.5201 - val_accuracy: 0.8507\n",
            "Epoch 14/20\n",
            "230/230 [==============================] - 2s 9ms/step - loss: 0.2691 - accuracy: 0.9188 - val_loss: 0.4733 - val_accuracy: 0.8541\n",
            "Epoch 15/20\n",
            "230/230 [==============================] - 2s 9ms/step - loss: 0.2809 - accuracy: 0.9139 - val_loss: 0.4753 - val_accuracy: 0.8697\n",
            "Epoch 16/20\n",
            "230/230 [==============================] - 2s 9ms/step - loss: 0.2432 - accuracy: 0.9248 - val_loss: 0.3981 - val_accuracy: 0.8724\n",
            "Epoch 17/20\n",
            "230/230 [==============================] - 2s 9ms/step - loss: 0.2448 - accuracy: 0.9237 - val_loss: 0.4566 - val_accuracy: 0.8575\n",
            "Epoch 18/20\n",
            "230/230 [==============================] - 2s 9ms/step - loss: 0.2671 - accuracy: 0.9087 - val_loss: 0.4068 - val_accuracy: 0.8836\n",
            "Epoch 19/20\n",
            "230/230 [==============================] - 2s 9ms/step - loss: 0.2680 - accuracy: 0.9115 - val_loss: 0.4238 - val_accuracy: 0.8741\n",
            "Epoch 20/20\n",
            "230/230 [==============================] - 2s 9ms/step - loss: 0.2389 - accuracy: 0.9290 - val_loss: 0.4240 - val_accuracy: 0.8656\n"
          ],
          "name": "stdout"
        }
      ]
    },
    {
      "cell_type": "code",
      "metadata": {
        "id": "bYDyM-m45WES",
        "colab_type": "code",
        "colab": {
          "base_uri": "https://localhost:8080/",
          "height": 573
        },
        "outputId": "43e9369e-b6a3-4b2e-fe5a-8495e77531ff"
      },
      "source": [
        "#  \"Accuracy\"\n",
        "plt.plot(history.history['accuracy'])\n",
        "plt.plot(history.history['val_accuracy'])\n",
        "plt.title('model accuracy')\n",
        "plt.ylabel('accuracy')\n",
        "plt.xlabel('epoch')\n",
        "plt.legend(['train', 'validation'], loc='upper left')\n",
        "plt.show()\n",
        "# \"Loss\"\n",
        "plt.plot(history.history['loss'])\n",
        "plt.plot(history.history['val_loss'])\n",
        "plt.title('model loss')\n",
        "plt.ylabel('loss')\n",
        "plt.xlabel('epoch')\n",
        "plt.legend(['train', 'validation'], loc='upper left')\n",
        "plt.show()"
      ],
      "execution_count": 21,
      "outputs": [
        {
          "output_type": "display_data",
          "data": {
            "image/png": "[encoded data removed]",
            "text/plain": [
              "<Figure size 432x288 with 1 Axes>"
            ]
          },
          "metadata": {
            "tags": [],
            "needs_background": "light"
          }
        },
        {
          "output_type": "display_data",
          "data": {
            "image/png": "[encoded data removed]",
            "text/plain": [
              "<Figure size 432x288 with 1 Axes>"
            ]
          },
          "metadata": {
            "tags": [],
            "needs_background": "light"
          }
        }
      ]
    },
    {
      "cell_type": "code",
      "metadata": {
        "id": "tX4XCSOz6SHM",
        "colab_type": "code",
        "colab": {
          "base_uri": "https://localhost:8080/",
          "height": 306
        },
        "outputId": "2da2af32-e512-40e5-e413-78f5187ed17f"
      },
      "source": [
        "# Confusion Matrix\n",
        "print(confusion_matrix(Y_test, model.predict(X_test)))"
      ],
      "execution_count": 22,
      "outputs": [
        {
          "output_type": "stream",
          "text": [
            "Pred                LAYING  SITTING  STANDING  WALKING  WALKING_DOWNSTAIRS  \\\n",
            "True                                                                         \n",
            "LAYING              494     0        0         0        0                    \n",
            "SITTING             4       413      61        6        2                    \n",
            "STANDING            0       122      382       23       2                    \n",
            "WALKING             0       0        0         440      48                   \n",
            "WALKING_DOWNSTAIRS  0       0        0         5        401                  \n",
            "WALKING_UPSTAIRS    0       0        0         30       20                   \n",
            "\n",
            "Pred                WALKING_UPSTAIRS  \n",
            "True                                  \n",
            "LAYING              43                \n",
            "SITTING             5                 \n",
            "STANDING            3                 \n",
            "WALKING             8                 \n",
            "WALKING_DOWNSTAIRS  14                \n",
            "WALKING_UPSTAIRS    421               \n"
          ],
          "name": "stdout"
        }
      ]
    },
    {
      "cell_type": "code",
      "metadata": {
        "id": "SU4nB17M6lGT",
        "colab_type": "code",
        "colab": {
          "base_uri": "https://localhost:8080/",
          "height": 34
        },
        "outputId": "0a40a88c-06a0-41f2-a659-82975c436497"
      },
      "source": [
        "score = model.evaluate(X_test, Y_test)"
      ],
      "execution_count": 23,
      "outputs": [
        {
          "output_type": "stream",
          "text": [
            "93/93 [==============================] - 0s 5ms/step - loss: 0.4240 - accuracy: 0.8656\n"
          ],
          "name": "stdout"
        }
      ]
    },
    {
      "cell_type": "code",
      "metadata": {
        "id": "0jOl2CAX6490",
        "colab_type": "code",
        "colab": {
          "base_uri": "https://localhost:8080/",
          "height": 34
        },
        "outputId": "3075d33d-7cca-4748-bb42-23d3b510958c"
      },
      "source": [
        "score"
      ],
      "execution_count": 24,
      "outputs": [
        {
          "output_type": "execute_result",
          "data": {
            "text/plain": [
              "[0.42402851581573486, 0.8656260371208191]"
            ]
          },
          "metadata": {
            "tags": []
          },
          "execution_count": 24
        }
      ]
    },
    {
      "cell_type": "markdown",
      "metadata": {
        "id": "L0lesL618b2-",
        "colab_type": "text"
      },
      "source": [
        "#LSTM-2"
      ]
    },
    {
      "cell_type": "code",
      "metadata": {
        "id": "DeuohA2o8ZFz",
        "colab_type": "code",
        "colab": {
          "base_uri": "https://localhost:8080/",
          "height": 357
        },
        "outputId": "9685bd0b-1489-4d20-d8da-a573b537f34d"
      },
      "source": [
        "model = keras.models.Sequential([\n",
        "      keras.layers.LSTM(64 , input_shape = ( timesteps , input_dim) , return_sequences=True),\n",
        "      keras.layers.Dropout(0.4),\n",
        "      keras.layers.LSTM( 32 ),\n",
        "      keras.layers.Dropout(0.4),\n",
        "      keras.layers.Dense(6 , activation= 'relu'),\n",
        "      keras.layers.Softmax()\n",
        "])\n",
        "model.summary()"
      ],
      "execution_count": 27,
      "outputs": [
        {
          "output_type": "stream",
          "text": [
            "Model: \"sequential_3\"\n",
            "_________________________________________________________________\n",
            "Layer (type)                 Output Shape              Param #   \n",
            "=================================================================\n",
            "lstm_4 (LSTM)                (None, 128, 64)           18944     \n",
            "_________________________________________________________________\n",
            "dropout_4 (Dropout)          (None, 128, 64)           0         \n",
            "_________________________________________________________________\n",
            "lstm_5 (LSTM)                (None, 32)                12416     \n",
            "_________________________________________________________________\n",
            "dropout_5 (Dropout)          (None, 32)                0         \n",
            "_________________________________________________________________\n",
            "dense_3 (Dense)              (None, 6)                 198       \n",
            "_________________________________________________________________\n",
            "softmax_3 (Softmax)          (None, 6)                 0         \n",
            "=================================================================\n",
            "Total params: 31,558\n",
            "Trainable params: 31,558\n",
            "Non-trainable params: 0\n",
            "_________________________________________________________________\n"
          ],
          "name": "stdout"
        }
      ]
    },
    {
      "cell_type": "code",
      "metadata": {
        "id": "bogzSQBJ8tb3",
        "colab_type": "code",
        "colab": {}
      },
      "source": [
        "# Compiling the model\n",
        "model.compile(loss='categorical_crossentropy',\n",
        "              optimizer='adam',\n",
        "              metrics=['accuracy'])\n",
        "\n"
      ],
      "execution_count": 28,
      "outputs": []
    },
    {
      "cell_type": "code",
      "metadata": {
        "id": "v7-Mni6R-euD",
        "colab_type": "code",
        "colab": {
          "base_uri": "https://localhost:8080/",
          "height": 697
        },
        "outputId": "3bfdd8f9-7d79-460b-c19a-7fcc836e1f77"
      },
      "source": [
        "# Training the model\n",
        "history = model.fit(X_train,\n",
        "          Y_train,\n",
        "          batch_size= 32 ,\n",
        "          validation_data=(X_test, Y_test),\n",
        "          epochs= 20 )"
      ],
      "execution_count": 29,
      "outputs": [
        {
          "output_type": "stream",
          "text": [
            "Epoch 1/20\n",
            "230/230 [==============================] - 4s 18ms/step - loss: 1.0789 - accuracy: 0.5506 - val_loss: 0.8734 - val_accuracy: 0.6298\n",
            "Epoch 2/20\n",
            "230/230 [==============================] - 3s 15ms/step - loss: 0.7648 - accuracy: 0.6848 - val_loss: 0.7082 - val_accuracy: 0.7557\n",
            "Epoch 3/20\n",
            "230/230 [==============================] - 3s 15ms/step - loss: 0.5657 - accuracy: 0.7991 - val_loss: 0.6679 - val_accuracy: 0.7221\n",
            "Epoch 4/20\n",
            "230/230 [==============================] - 3s 15ms/step - loss: 0.4364 - accuracy: 0.8489 - val_loss: 0.5096 - val_accuracy: 0.8174\n",
            "Epoch 5/20\n",
            "230/230 [==============================] - 3s 15ms/step - loss: 0.3407 - accuracy: 0.8923 - val_loss: 0.5066 - val_accuracy: 0.8395\n",
            "Epoch 6/20\n",
            "230/230 [==============================] - 3s 14ms/step - loss: 0.2655 - accuracy: 0.9147 - val_loss: 0.3940 - val_accuracy: 0.8751\n",
            "Epoch 7/20\n",
            "230/230 [==============================] - 3s 14ms/step - loss: 0.2123 - accuracy: 0.9287 - val_loss: 0.3183 - val_accuracy: 0.8897\n",
            "Epoch 8/20\n",
            "230/230 [==============================] - 3s 14ms/step - loss: 0.1882 - accuracy: 0.9362 - val_loss: 0.3335 - val_accuracy: 0.8843\n",
            "Epoch 9/20\n",
            "230/230 [==============================] - 3s 15ms/step - loss: 0.1574 - accuracy: 0.9441 - val_loss: 0.3070 - val_accuracy: 0.8924\n",
            "Epoch 10/20\n",
            "230/230 [==============================] - 3s 15ms/step - loss: 0.1559 - accuracy: 0.9444 - val_loss: 0.2975 - val_accuracy: 0.8951\n",
            "Epoch 11/20\n",
            "230/230 [==============================] - 3s 14ms/step - loss: 0.1633 - accuracy: 0.9438 - val_loss: 0.3420 - val_accuracy: 0.8982\n",
            "Epoch 12/20\n",
            "230/230 [==============================] - 3s 15ms/step - loss: 0.1537 - accuracy: 0.9426 - val_loss: 0.4425 - val_accuracy: 0.8680\n",
            "Epoch 13/20\n",
            "230/230 [==============================] - 3s 15ms/step - loss: 0.1379 - accuracy: 0.9486 - val_loss: 0.3400 - val_accuracy: 0.8911\n",
            "Epoch 14/20\n",
            "230/230 [==============================] - 3s 15ms/step - loss: 0.1340 - accuracy: 0.9509 - val_loss: 0.3350 - val_accuracy: 0.9002\n",
            "Epoch 15/20\n",
            "230/230 [==============================] - 3s 15ms/step - loss: 0.1662 - accuracy: 0.9406 - val_loss: 0.2673 - val_accuracy: 0.9138\n",
            "Epoch 16/20\n",
            "230/230 [==============================] - 3s 15ms/step - loss: 0.1325 - accuracy: 0.9505 - val_loss: 0.3131 - val_accuracy: 0.9104\n",
            "Epoch 17/20\n",
            "230/230 [==============================] - 3s 15ms/step - loss: 0.1357 - accuracy: 0.9465 - val_loss: 0.3541 - val_accuracy: 0.9084\n",
            "Epoch 18/20\n",
            "230/230 [==============================] - 3s 15ms/step - loss: 0.1162 - accuracy: 0.9573 - val_loss: 0.3893 - val_accuracy: 0.9030\n",
            "Epoch 19/20\n",
            "230/230 [==============================] - 4s 15ms/step - loss: 0.1418 - accuracy: 0.9474 - val_loss: 0.3544 - val_accuracy: 0.9087\n",
            "Epoch 20/20\n",
            "230/230 [==============================] - 4s 16ms/step - loss: 0.1241 - accuracy: 0.9516 - val_loss: 0.3266 - val_accuracy: 0.9125\n"
          ],
          "name": "stdout"
        }
      ]
    },
    {
      "cell_type": "code",
      "metadata": {
        "id": "iVs2UV_i-jXr",
        "colab_type": "code",
        "colab": {
          "base_uri": "https://localhost:8080/",
          "height": 573
        },
        "outputId": "00051e3c-6de8-4878-f4f6-b809103a3e69"
      },
      "source": [
        "#  \"Accuracy\"\n",
        "plt.plot(history.history['accuracy'])\n",
        "plt.plot(history.history['val_accuracy'])\n",
        "plt.title('model accuracy')\n",
        "plt.ylabel('accuracy')\n",
        "plt.xlabel('epoch')\n",
        "plt.legend(['train', 'validation'], loc='upper left')\n",
        "plt.show()\n",
        "# \"Loss\"\n",
        "plt.plot(history.history['loss'])\n",
        "plt.plot(history.history['val_loss'])\n",
        "plt.title('model loss')\n",
        "plt.ylabel('loss')\n",
        "plt.xlabel('epoch')\n",
        "plt.legend(['train', 'validation'], loc='upper left')\n",
        "plt.show()"
      ],
      "execution_count": 30,
      "outputs": [
        {
          "output_type": "display_data",
          "data": {
            "image/png": "[encoded data removed]",
            "text/plain": [
              "<Figure size 432x288 with 1 Axes>"
            ]
          },
          "metadata": {
            "tags": [],
            "needs_background": "light"
          }
        },
        {
          "output_type": "display_data",
          "data": {
            "image/png": "[encoded data removed]",
            "text/plain": [
              "<Figure size 432x288 with 1 Axes>"
            ]
          },
          "metadata": {
            "tags": [],
            "needs_background": "light"
          }
        }
      ]
    },
    {
      "cell_type": "code",
      "metadata": {
        "id": "cvrVPup2_k22",
        "colab_type": "code",
        "colab": {
          "base_uri": "https://localhost:8080/",
          "height": 306
        },
        "outputId": "fc2ac89e-47e9-40b2-a412-793f2d42bed5"
      },
      "source": [
        "# Confusion Matrix\n",
        "print(confusion_matrix(Y_test, model.predict(X_test)))"
      ],
      "execution_count": 31,
      "outputs": [
        {
          "output_type": "stream",
          "text": [
            "Pred                LAYING  SITTING  STANDING  WALKING  WALKING_DOWNSTAIRS  \\\n",
            "True                                                                         \n",
            "LAYING              536     0        0         0        0                    \n",
            "SITTING             0       399      90        0        0                    \n",
            "STANDING            0       89       442       1        0                    \n",
            "WALKING             0       0        0         457      34                   \n",
            "WALKING_DOWNSTAIRS  0       0        0         1        410                  \n",
            "WALKING_UPSTAIRS    0       0        1         7        18                   \n",
            "\n",
            "Pred                WALKING_UPSTAIRS  \n",
            "True                                  \n",
            "LAYING              1                 \n",
            "SITTING             2                 \n",
            "STANDING            0                 \n",
            "WALKING             5                 \n",
            "WALKING_DOWNSTAIRS  9                 \n",
            "WALKING_UPSTAIRS    445               \n"
          ],
          "name": "stdout"
        }
      ]
    },
    {
      "cell_type": "code",
      "metadata": {
        "id": "dui8wrbr_3Ml",
        "colab_type": "code",
        "colab": {
          "base_uri": "https://localhost:8080/",
          "height": 34
        },
        "outputId": "898803a1-c145-468a-9613-3de574653fe7"
      },
      "source": [
        "score = model.evaluate(X_test, Y_test)"
      ],
      "execution_count": 32,
      "outputs": [
        {
          "output_type": "stream",
          "text": [
            "93/93 [==============================] - 1s 7ms/step - loss: 0.3266 - accuracy: 0.9125\n"
          ],
          "name": "stdout"
        }
      ]
    },
    {
      "cell_type": "code",
      "metadata": {
        "id": "syh_Be9qAfqq",
        "colab_type": "code",
        "colab": {
          "base_uri": "https://localhost:8080/",
          "height": 34
        },
        "outputId": "06c92029-2209-46d7-f364-d1a762386dc3"
      },
      "source": [
        "score"
      ],
      "execution_count": 33,
      "outputs": [
        {
          "output_type": "execute_result",
          "data": {
            "text/plain": [
              "[0.3266490697860718, 0.9124533534049988]"
            ]
          },
          "metadata": {
            "tags": []
          },
          "execution_count": 33
        }
      ]
    },
    {
      "cell_type": "markdown",
      "metadata": {
        "id": "Ee1MeyrrA8hZ",
        "colab_type": "text"
      },
      "source": [
        "#LSTM-3"
      ]
    },
    {
      "cell_type": "code",
      "metadata": {
        "id": "hUxZ6CyQAgLn",
        "colab_type": "code",
        "colab": {
          "base_uri": "https://localhost:8080/",
          "height": 425
        },
        "outputId": "78ea97c7-d506-49cb-d64f-36d068786661"
      },
      "source": [
        "model = keras.models.Sequential([\n",
        "      keras.layers.LSTM(128 , input_shape = ( timesteps , input_dim) , return_sequences=True),\n",
        "      keras.layers.Dropout(0.5),\n",
        "      keras.layers.LSTM( 64 , return_sequences=True ),\n",
        "      keras.layers.Dropout(0.4),\n",
        "      keras.layers.LSTM( 32 ),\n",
        "      keras.layers.Dropout(0.2),\n",
        "      keras.layers.Dense(6 , activation= 'relu'),\n",
        "      keras.layers.Softmax()\n",
        "])\n",
        "model.summary()"
      ],
      "execution_count": 41,
      "outputs": [
        {
          "output_type": "stream",
          "text": [
            "Model: \"sequential_7\"\n",
            "_________________________________________________________________\n",
            "Layer (type)                 Output Shape              Param #   \n",
            "=================================================================\n",
            "lstm_15 (LSTM)               (None, 128, 128)          70656     \n",
            "_________________________________________________________________\n",
            "dropout_14 (Dropout)         (None, 128, 128)          0         \n",
            "_________________________________________________________________\n",
            "lstm_16 (LSTM)               (None, 128, 64)           49408     \n",
            "_________________________________________________________________\n",
            "dropout_15 (Dropout)         (None, 128, 64)           0         \n",
            "_________________________________________________________________\n",
            "lstm_17 (LSTM)               (None, 32)                12416     \n",
            "_________________________________________________________________\n",
            "dropout_16 (Dropout)         (None, 32)                0         \n",
            "_________________________________________________________________\n",
            "dense_7 (Dense)              (None, 6)                 198       \n",
            "_________________________________________________________________\n",
            "softmax_7 (Softmax)          (None, 6)                 0         \n",
            "=================================================================\n",
            "Total params: 132,678\n",
            "Trainable params: 132,678\n",
            "Non-trainable params: 0\n",
            "_________________________________________________________________\n"
          ],
          "name": "stdout"
        }
      ]
    },
    {
      "cell_type": "code",
      "metadata": {
        "id": "xxaxIxyEBH13",
        "colab_type": "code",
        "colab": {}
      },
      "source": [
        "# Compiling the model\n",
        "model.compile(loss='categorical_crossentropy',\n",
        "              optimizer='adam',\n",
        "              metrics=['accuracy'])"
      ],
      "execution_count": 42,
      "outputs": []
    },
    {
      "cell_type": "code",
      "metadata": {
        "id": "uYi4VEsrBPDm",
        "colab_type": "code",
        "colab": {
          "base_uri": "https://localhost:8080/",
          "height": 697
        },
        "outputId": "2f7968fd-5be1-4137-fdb7-1c1a46d0f416"
      },
      "source": [
        "# Training the model\n",
        "history = model.fit(X_train,\n",
        "          Y_train,\n",
        "          batch_size= 32 ,\n",
        "          validation_data=(X_test, Y_test),\n",
        "          epochs= 20 )"
      ],
      "execution_count": 43,
      "outputs": [
        {
          "output_type": "stream",
          "text": [
            "Epoch 1/20\n",
            "230/230 [==============================] - 6s 25ms/step - loss: 0.9671 - accuracy: 0.6147 - val_loss: 0.6792 - val_accuracy: 0.7136\n",
            "Epoch 2/20\n",
            "230/230 [==============================] - 5s 21ms/step - loss: 0.5379 - accuracy: 0.8071 - val_loss: 0.5042 - val_accuracy: 0.8432\n",
            "Epoch 3/20\n",
            "230/230 [==============================] - 5s 21ms/step - loss: 0.3066 - accuracy: 0.9023 - val_loss: 0.5244 - val_accuracy: 0.8442\n",
            "Epoch 4/20\n",
            "230/230 [==============================] - 5s 21ms/step - loss: 0.2412 - accuracy: 0.9230 - val_loss: 0.3420 - val_accuracy: 0.8928\n",
            "Epoch 5/20\n",
            "230/230 [==============================] - 5s 21ms/step - loss: 0.1647 - accuracy: 0.9429 - val_loss: 0.3384 - val_accuracy: 0.9046\n",
            "Epoch 6/20\n",
            "230/230 [==============================] - 5s 21ms/step - loss: 0.3187 - accuracy: 0.8783 - val_loss: 0.3434 - val_accuracy: 0.8772\n",
            "Epoch 7/20\n",
            "230/230 [==============================] - 5s 21ms/step - loss: 0.1756 - accuracy: 0.9313 - val_loss: 0.3905 - val_accuracy: 0.8833\n",
            "Epoch 8/20\n",
            "230/230 [==============================] - 5s 21ms/step - loss: 0.1402 - accuracy: 0.9468 - val_loss: 0.3733 - val_accuracy: 0.9002\n",
            "Epoch 9/20\n",
            "230/230 [==============================] - 5s 21ms/step - loss: 0.1666 - accuracy: 0.9404 - val_loss: 0.4484 - val_accuracy: 0.8775\n",
            "Epoch 10/20\n",
            "230/230 [==============================] - 5s 21ms/step - loss: 0.2081 - accuracy: 0.9309 - val_loss: 0.3388 - val_accuracy: 0.8914\n",
            "Epoch 11/20\n",
            "230/230 [==============================] - 5s 21ms/step - loss: 0.1622 - accuracy: 0.9414 - val_loss: 0.3272 - val_accuracy: 0.9023\n",
            "Epoch 12/20\n",
            "230/230 [==============================] - 5s 21ms/step - loss: 0.1968 - accuracy: 0.9313 - val_loss: 0.3279 - val_accuracy: 0.9040\n",
            "Epoch 13/20\n",
            "230/230 [==============================] - 5s 21ms/step - loss: 0.1393 - accuracy: 0.9471 - val_loss: 0.3591 - val_accuracy: 0.9182\n",
            "Epoch 14/20\n",
            "230/230 [==============================] - 5s 21ms/step - loss: 0.1329 - accuracy: 0.9491 - val_loss: 0.3364 - val_accuracy: 0.9077\n",
            "Epoch 15/20\n",
            "230/230 [==============================] - 5s 21ms/step - loss: 0.1327 - accuracy: 0.9457 - val_loss: 0.3588 - val_accuracy: 0.9091\n",
            "Epoch 16/20\n",
            "230/230 [==============================] - 5s 21ms/step - loss: 0.1312 - accuracy: 0.9504 - val_loss: 0.3201 - val_accuracy: 0.9019\n",
            "Epoch 17/20\n",
            "230/230 [==============================] - 5s 21ms/step - loss: 0.1400 - accuracy: 0.9512 - val_loss: 0.3002 - val_accuracy: 0.9074\n",
            "Epoch 18/20\n",
            "230/230 [==============================] - 5s 21ms/step - loss: 0.1290 - accuracy: 0.9504 - val_loss: 0.4860 - val_accuracy: 0.8778\n",
            "Epoch 19/20\n",
            "230/230 [==============================] - 5s 21ms/step - loss: 0.1521 - accuracy: 0.9461 - val_loss: 0.3338 - val_accuracy: 0.9084\n",
            "Epoch 20/20\n",
            "230/230 [==============================] - 5s 21ms/step - loss: 0.1283 - accuracy: 0.9457 - val_loss: 0.2516 - val_accuracy: 0.9108\n"
          ],
          "name": "stdout"
        }
      ]
    },
    {
      "cell_type": "code",
      "metadata": {
        "id": "V6KbbykkBSnE",
        "colab_type": "code",
        "colab": {
          "base_uri": "https://localhost:8080/",
          "height": 573
        },
        "outputId": "7ab20494-5e20-4525-edf8-a7f5f2d78135"
      },
      "source": [
        "#  \"Accuracy\"\n",
        "plt.plot(history.history['accuracy'])\n",
        "plt.plot(history.history['val_accuracy'])\n",
        "plt.title('model accuracy')\n",
        "plt.ylabel('accuracy')\n",
        "plt.xlabel('epoch')\n",
        "plt.legend(['train', 'validation'], loc='upper left')\n",
        "plt.show()\n",
        "# \"Loss\"\n",
        "plt.plot(history.history['loss'])\n",
        "plt.plot(history.history['val_loss'])\n",
        "plt.title('model loss')\n",
        "plt.ylabel('loss')\n",
        "plt.xlabel('epoch')\n",
        "plt.legend(['train', 'validation'], loc='upper left')\n",
        "plt.show()"
      ],
      "execution_count": 44,
      "outputs": [
        {
          "output_type": "display_data",
          "data": {
            "image/png": "[encoded data removed]",
            "text/plain": [
              "<Figure size 432x288 with 1 Axes>"
            ]
          },
          "metadata": {
            "tags": [],
            "needs_background": "light"
          }
        },
        {
          "output_type": "display_data",
          "data": {
            "image/png": "[encoded data removed]",
            "text/plain": [
              "<Figure size 432x288 with 1 Axes>"
            ]
          },
          "metadata": {
            "tags": [],
            "needs_background": "light"
          }
        }
      ]
    },
    {
      "cell_type": "code",
      "metadata": {
        "id": "1oxVifK1CwoT",
        "colab_type": "code",
        "colab": {
          "base_uri": "https://localhost:8080/",
          "height": 306
        },
        "outputId": "e1ed72fe-b973-4448-a4fe-25d2d3e59daa"
      },
      "source": [
        "# Confusion Matrix\n",
        "print(confusion_matrix(Y_test, model.predict(X_test)))"
      ],
      "execution_count": 45,
      "outputs": [
        {
          "output_type": "stream",
          "text": [
            "Pred                LAYING  SITTING  STANDING  WALKING  WALKING_DOWNSTAIRS  \\\n",
            "True                                                                         \n",
            "LAYING              533     0        0         0        0                    \n",
            "SITTING             0       376      110       1        2                    \n",
            "STANDING            0       98       433       1        0                    \n",
            "WALKING             0       0        0         458      23                   \n",
            "WALKING_DOWNSTAIRS  0       0        0         0        419                  \n",
            "WALKING_UPSTAIRS    0       0        0         3        3                    \n",
            "\n",
            "Pred                WALKING_UPSTAIRS  \n",
            "True                                  \n",
            "LAYING              4                 \n",
            "SITTING             2                 \n",
            "STANDING            0                 \n",
            "WALKING             15                \n",
            "WALKING_DOWNSTAIRS  1                 \n",
            "WALKING_UPSTAIRS    465               \n"
          ],
          "name": "stdout"
        }
      ]
    },
    {
      "cell_type": "code",
      "metadata": {
        "id": "roUsfsIbC3XN",
        "colab_type": "code",
        "colab": {
          "base_uri": "https://localhost:8080/",
          "height": 34
        },
        "outputId": "ea3c7d18-5d93-40a2-a45c-2f38813743e8"
      },
      "source": [
        "score = model.evaluate(X_test, Y_test)"
      ],
      "execution_count": 46,
      "outputs": [
        {
          "output_type": "stream",
          "text": [
            "93/93 [==============================] - 1s 10ms/step - loss: 0.2516 - accuracy: 0.9108\n"
          ],
          "name": "stdout"
        }
      ]
    },
    {
      "cell_type": "code",
      "metadata": {
        "id": "qGTLQjjbC9cl",
        "colab_type": "code",
        "colab": {
          "base_uri": "https://localhost:8080/",
          "height": 34
        },
        "outputId": "365aa06f-3283-413f-beb2-a9c6e2f26c4f"
      },
      "source": [
        "score"
      ],
      "execution_count": 47,
      "outputs": [
        {
          "output_type": "execute_result",
          "data": {
            "text/plain": [
              "[0.25158625841140747, 0.9107567071914673]"
            ]
          },
          "metadata": {
            "tags": []
          },
          "execution_count": 47
        }
      ]
    },
    {
      "cell_type": "markdown",
      "metadata": {
        "id": "ZT1lt5kUDEpI",
        "colab_type": "text"
      },
      "source": [
        "#GRU"
      ]
    },
    {
      "cell_type": "code",
      "metadata": {
        "id": "nD7F_E7VDB0I",
        "colab_type": "code",
        "colab": {
          "base_uri": "https://localhost:8080/",
          "height": 425
        },
        "outputId": "57652d12-15d3-4b11-b52c-3a21f319817d"
      },
      "source": [
        "model = keras.models.Sequential([\n",
        "      keras.layers.GRU( 128 , input_shape = ( timesteps , input_dim) , return_sequences=True),\n",
        "      keras.layers.Dropout(0.5),\n",
        "      keras.layers.GRU( 64 , return_sequences=True ),\n",
        "      keras.layers.Dropout(0.4),\n",
        "      keras.layers.GRU( 32 , return_sequences=True ),\n",
        "      keras.layers.GRU( 16 ),\n",
        "      keras.layers.Dense(6 , activation= 'relu'),\n",
        "      keras.layers.Softmax()\n",
        "])\n",
        "model.summary()"
      ],
      "execution_count": 56,
      "outputs": [
        {
          "output_type": "stream",
          "text": [
            "Model: \"sequential_10\"\n",
            "_________________________________________________________________\n",
            "Layer (type)                 Output Shape              Param #   \n",
            "=================================================================\n",
            "gru_7 (GRU)                  (None, 128, 128)          53376     \n",
            "_________________________________________________________________\n",
            "dropout_22 (Dropout)         (None, 128, 128)          0         \n",
            "_________________________________________________________________\n",
            "gru_8 (GRU)                  (None, 128, 64)           37248     \n",
            "_________________________________________________________________\n",
            "dropout_23 (Dropout)         (None, 128, 64)           0         \n",
            "_________________________________________________________________\n",
            "gru_9 (GRU)                  (None, 128, 32)           9408      \n",
            "_________________________________________________________________\n",
            "gru_10 (GRU)                 (None, 16)                2400      \n",
            "_________________________________________________________________\n",
            "dense_10 (Dense)             (None, 6)                 102       \n",
            "_________________________________________________________________\n",
            "softmax_10 (Softmax)         (None, 6)                 0         \n",
            "=================================================================\n",
            "Total params: 102,534\n",
            "Trainable params: 102,534\n",
            "Non-trainable params: 0\n",
            "_________________________________________________________________\n"
          ],
          "name": "stdout"
        }
      ]
    },
    {
      "cell_type": "code",
      "metadata": {
        "id": "8gsr0FQUDa3H",
        "colab_type": "code",
        "colab": {}
      },
      "source": [
        "# Compiling the model\n",
        "model.compile(loss='categorical_crossentropy',\n",
        "              optimizer='adam',\n",
        "              metrics=['accuracy'])"
      ],
      "execution_count": 57,
      "outputs": []
    },
    {
      "cell_type": "code",
      "metadata": {
        "id": "9KV_egTLDgjw",
        "colab_type": "code",
        "colab": {
          "base_uri": "https://localhost:8080/",
          "height": 1000
        },
        "outputId": "7fe92340-c25c-45b3-b499-e8099d805a50"
      },
      "source": [
        "# Training the model\n",
        "history = model.fit(X_train,\n",
        "          Y_train,\n",
        "          batch_size= 32 ,\n",
        "          validation_data=(X_test, Y_test),\n",
        "          epochs= 30 )"
      ],
      "execution_count": 58,
      "outputs": [
        {
          "output_type": "stream",
          "text": [
            "Epoch 1/30\n",
            "230/230 [==============================] - 7s 30ms/step - loss: 1.1177 - accuracy: 0.5496 - val_loss: 0.8591 - val_accuracy: 0.6851\n",
            "Epoch 2/30\n",
            "230/230 [==============================] - 6s 25ms/step - loss: 0.4590 - accuracy: 0.8519 - val_loss: 0.4088 - val_accuracy: 0.8877\n",
            "Epoch 3/30\n",
            "230/230 [==============================] - 6s 25ms/step - loss: 0.2175 - accuracy: 0.9304 - val_loss: 0.2879 - val_accuracy: 0.9043\n",
            "Epoch 4/30\n",
            "230/230 [==============================] - 6s 25ms/step - loss: 0.1831 - accuracy: 0.9358 - val_loss: 0.3334 - val_accuracy: 0.8836\n",
            "Epoch 5/30\n",
            "230/230 [==============================] - 6s 25ms/step - loss: 0.1422 - accuracy: 0.9480 - val_loss: 0.3033 - val_accuracy: 0.9030\n",
            "Epoch 6/30\n",
            "230/230 [==============================] - 6s 25ms/step - loss: 0.1360 - accuracy: 0.9506 - val_loss: 0.2980 - val_accuracy: 0.9063\n",
            "Epoch 7/30\n",
            "230/230 [==============================] - 6s 25ms/step - loss: 0.1292 - accuracy: 0.9559 - val_loss: 0.2409 - val_accuracy: 0.9240\n",
            "Epoch 8/30\n",
            "230/230 [==============================] - 6s 25ms/step - loss: 0.1490 - accuracy: 0.9441 - val_loss: 0.3053 - val_accuracy: 0.9063\n",
            "Epoch 9/30\n",
            "230/230 [==============================] - 6s 25ms/step - loss: 0.1361 - accuracy: 0.9455 - val_loss: 0.2282 - val_accuracy: 0.9226\n",
            "Epoch 10/30\n",
            "230/230 [==============================] - 6s 25ms/step - loss: 0.1144 - accuracy: 0.9548 - val_loss: 0.2405 - val_accuracy: 0.9274\n",
            "Epoch 11/30\n",
            "230/230 [==============================] - 6s 25ms/step - loss: 0.1149 - accuracy: 0.9543 - val_loss: 0.2430 - val_accuracy: 0.9203\n",
            "Epoch 12/30\n",
            "230/230 [==============================] - 6s 26ms/step - loss: 0.1366 - accuracy: 0.9516 - val_loss: 0.2631 - val_accuracy: 0.9094\n",
            "Epoch 13/30\n",
            "230/230 [==============================] - 6s 26ms/step - loss: 0.1252 - accuracy: 0.9508 - val_loss: 0.2446 - val_accuracy: 0.9243\n",
            "Epoch 14/30\n",
            "230/230 [==============================] - 6s 25ms/step - loss: 0.1149 - accuracy: 0.9546 - val_loss: 0.2474 - val_accuracy: 0.9298\n",
            "Epoch 15/30\n",
            "230/230 [==============================] - 6s 25ms/step - loss: 0.1081 - accuracy: 0.9550 - val_loss: 0.2648 - val_accuracy: 0.9260\n",
            "Epoch 16/30\n",
            "230/230 [==============================] - 6s 25ms/step - loss: 0.1096 - accuracy: 0.9553 - val_loss: 0.3219 - val_accuracy: 0.9131\n",
            "Epoch 17/30\n",
            "230/230 [==============================] - 6s 25ms/step - loss: 0.1160 - accuracy: 0.9536 - val_loss: 0.3345 - val_accuracy: 0.9013\n",
            "Epoch 18/30\n",
            "230/230 [==============================] - 6s 25ms/step - loss: 0.1138 - accuracy: 0.9559 - val_loss: 0.2919 - val_accuracy: 0.9094\n",
            "Epoch 19/30\n",
            "230/230 [==============================] - 6s 25ms/step - loss: 0.1086 - accuracy: 0.9578 - val_loss: 0.2573 - val_accuracy: 0.9162\n",
            "Epoch 20/30\n",
            "230/230 [==============================] - 6s 25ms/step - loss: 0.1046 - accuracy: 0.9584 - val_loss: 0.3022 - val_accuracy: 0.9118\n",
            "Epoch 21/30\n",
            "230/230 [==============================] - 6s 25ms/step - loss: 0.1040 - accuracy: 0.9576 - val_loss: 0.3056 - val_accuracy: 0.9226\n",
            "Epoch 22/30\n",
            "230/230 [==============================] - 6s 25ms/step - loss: 0.1322 - accuracy: 0.9493 - val_loss: 0.2120 - val_accuracy: 0.9196\n",
            "Epoch 23/30\n",
            "230/230 [==============================] - 6s 25ms/step - loss: 0.1050 - accuracy: 0.9578 - val_loss: 0.2242 - val_accuracy: 0.9284\n",
            "Epoch 24/30\n",
            "230/230 [==============================] - 6s 25ms/step - loss: 0.1037 - accuracy: 0.9562 - val_loss: 0.2594 - val_accuracy: 0.9277\n",
            "Epoch 25/30\n",
            "230/230 [==============================] - 6s 25ms/step - loss: 0.1068 - accuracy: 0.9553 - val_loss: 0.2331 - val_accuracy: 0.9321\n",
            "Epoch 26/30\n",
            "230/230 [==============================] - 6s 25ms/step - loss: 0.1012 - accuracy: 0.9572 - val_loss: 0.2492 - val_accuracy: 0.9270\n",
            "Epoch 27/30\n",
            "230/230 [==============================] - 6s 25ms/step - loss: 0.0995 - accuracy: 0.9588 - val_loss: 0.2430 - val_accuracy: 0.9332\n",
            "Epoch 28/30\n",
            "230/230 [==============================] - 6s 25ms/step - loss: 0.0992 - accuracy: 0.9565 - val_loss: 0.2390 - val_accuracy: 0.9321\n",
            "Epoch 29/30\n",
            "230/230 [==============================] - 6s 25ms/step - loss: 0.1508 - accuracy: 0.9472 - val_loss: 0.1880 - val_accuracy: 0.9359\n",
            "Epoch 30/30\n",
            "230/230 [==============================] - 6s 25ms/step - loss: 0.0988 - accuracy: 0.9580 - val_loss: 0.2082 - val_accuracy: 0.9335\n"
          ],
          "name": "stdout"
        }
      ]
    },
    {
      "cell_type": "code",
      "metadata": {
        "id": "BSelbeyzDkqv",
        "colab_type": "code",
        "colab": {
          "base_uri": "https://localhost:8080/",
          "height": 573
        },
        "outputId": "3f20c1a9-bf65-40c7-d92e-c5445e60a153"
      },
      "source": [
        "#  \"Accuracy\"\n",
        "plt.plot(history.history['accuracy'])\n",
        "plt.plot(history.history['val_accuracy'])\n",
        "plt.title('model accuracy')\n",
        "plt.ylabel('accuracy')\n",
        "plt.xlabel('epoch')\n",
        "plt.legend(['train', 'validation'], loc='upper left')\n",
        "plt.show()\n",
        "# \"Loss\"\n",
        "plt.plot(history.history['loss'])\n",
        "plt.plot(history.history['val_loss'])\n",
        "plt.title('model loss')\n",
        "plt.ylabel('loss')\n",
        "plt.xlabel('epoch')\n",
        "plt.legend(['train', 'validation'], loc='upper left')\n",
        "plt.show()"
      ],
      "execution_count": 59,
      "outputs": [
        {
          "output_type": "display_data",
          "data": {
            "image/png": "[encoded data removed]",
            "text/plain": [
              "<Figure size 432x288 with 1 Axes>"
            ]
          },
          "metadata": {
            "tags": [],
            "needs_background": "light"
          }
        },
        {
          "output_type": "display_data",
          "data": {
            "image/png": "[encoded data removed]",
            "text/plain": [
              "<Figure size 432x288 with 1 Axes>"
            ]
          },
          "metadata": {
            "tags": [],
            "needs_background": "light"
          }
        }
      ]
    },
    {
      "cell_type": "code",
      "metadata": {
        "id": "eN5NurQREMuU",
        "colab_type": "code",
        "colab": {
          "base_uri": "https://localhost:8080/",
          "height": 306
        },
        "outputId": "6fa5a854-8867-4e91-a3ae-c8bee112b4f9"
      },
      "source": [
        "# Confusion Matrix\n",
        "print(confusion_matrix(Y_test, model.predict(X_test)))"
      ],
      "execution_count": 60,
      "outputs": [
        {
          "output_type": "stream",
          "text": [
            "Pred                LAYING  SITTING  STANDING  WALKING  WALKING_DOWNSTAIRS  \\\n",
            "True                                                                         \n",
            "LAYING              537     0        0         0        0                    \n",
            "SITTING             6       380      104       0        0                    \n",
            "STANDING            0       57       475       0        0                    \n",
            "WALKING             0       0        0         472      22                   \n",
            "WALKING_DOWNSTAIRS  0       0        0         0        420                  \n",
            "WALKING_UPSTAIRS    0       0        0         4        0                    \n",
            "\n",
            "Pred                WALKING_UPSTAIRS  \n",
            "True                                  \n",
            "LAYING              0                 \n",
            "SITTING             1                 \n",
            "STANDING            0                 \n",
            "WALKING             2                 \n",
            "WALKING_DOWNSTAIRS  0                 \n",
            "WALKING_UPSTAIRS    467               \n"
          ],
          "name": "stdout"
        }
      ]
    },
    {
      "cell_type": "code",
      "metadata": {
        "id": "EZVBirQvGJPA",
        "colab_type": "code",
        "colab": {
          "base_uri": "https://localhost:8080/",
          "height": 34
        },
        "outputId": "686019b9-b03a-478e-dc98-ba3ee8993036"
      },
      "source": [
        "score = model.evaluate(X_test, Y_test)"
      ],
      "execution_count": 61,
      "outputs": [
        {
          "output_type": "stream",
          "text": [
            "93/93 [==============================] - 1s 11ms/step - loss: 0.2082 - accuracy: 0.9335\n"
          ],
          "name": "stdout"
        }
      ]
    },
    {
      "cell_type": "code",
      "metadata": {
        "id": "x-eXwE5cGUh2",
        "colab_type": "code",
        "colab": {
          "base_uri": "https://localhost:8080/",
          "height": 34
        },
        "outputId": "2f913eb6-21e9-41cb-9c4c-8f39c44b9fe2"
      },
      "source": [
        "score "
      ],
      "execution_count": 63,
      "outputs": [
        {
          "output_type": "execute_result",
          "data": {
            "text/plain": [
              "[0.20824724435806274, 0.9334917068481445]"
            ]
          },
          "metadata": {
            "tags": []
          },
          "execution_count": 63
        }
      ]
    }
  ]
}